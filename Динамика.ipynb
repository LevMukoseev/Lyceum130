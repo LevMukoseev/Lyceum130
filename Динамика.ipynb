{
  "nbformat": 4,
  "nbformat_minor": 0,
  "metadata": {
    "colab": {
      "name": "Динамика.ipynb",
      "provenance": [],
      "authorship_tag": "ABX9TyPSNMspksgnxvtHIJyB4Bhe",
      "include_colab_link": true
    },
    "kernelspec": {
      "name": "python3",
      "display_name": "Python 3"
    },
    "language_info": {
      "name": "python"
    }
  },
  "cells": [
    {
      "cell_type": "markdown",
      "metadata": {
        "id": "view-in-github",
        "colab_type": "text"
      },
      "source": [
        "<a href=\"https://colab.research.google.com/github/LevMukoseev/Lyceum130/blob/main/%D0%94%D0%B8%D0%BD%D0%B0%D0%BC%D0%B8%D0%BA%D0%B0.ipynb\" target=\"_parent\"><img src=\"https://colab.research.google.com/assets/colab-badge.svg\" alt=\"Open In Colab\"/></a>"
      ]
    },
    {
      "cell_type": "markdown",
      "metadata": {
        "id": "a6G7U8qYg8De"
      },
      "source": [
        "## 11.[Зайчик](https://acmp.ru/asp/do/index.asp?main=task&id_course=2&id_section=15&id_topic=15&id_problem=84) "
      ]
    },
    {
      "cell_type": "markdown",
      "metadata": {
        "id": "mWpZiC7ZjBXM"
      },
      "source": [
        "### Решение через рекурсию не заходит по времени на python"
      ]
    },
    {
      "cell_type": "code",
      "metadata": {
        "colab": {
          "base_uri": "https://localhost:8080/"
        },
        "id": "bxKsSTqEgDeX",
        "outputId": "c5b72f24-71f4-4cb0-a75a-3d051c0d7039"
      },
      "source": [
        "from functools import lru_cache\n",
        "\n",
        "k, n = map(int, input().split())\n",
        "\n",
        "@lru_cache()\n",
        "def f(x):\n",
        "  if x < 1:\n",
        "    return 0\n",
        "  if x in {1, 2}:\n",
        "    return 1\n",
        "  return sum([f(i) for i in range(x - k, x)])\n",
        "\n",
        "print(f(n + 1))"
      ],
      "execution_count": 6,
      "outputs": [
        {
          "output_type": "stream",
          "text": [
            "2 7\n",
            "21\n"
          ],
          "name": "stdout"
        }
      ]
    },
    {
      "cell_type": "markdown",
      "metadata": {
        "id": "jQVm4ZTklfoh"
      },
      "source": [
        "### Решение через массив и сумму его k последних элементов работает существенно быстрее, но может быть улучшено"
      ]
    },
    {
      "cell_type": "code",
      "metadata": {
        "colab": {
          "base_uri": "https://localhost:8080/"
        },
        "id": "JhLiG9JyiF4H",
        "outputId": "533cd9ef-bb28-4166-afad-4bb86cdb3466"
      },
      "source": [
        "k, n = map(int, input().split())\n",
        "arr = [1]\n",
        "for i in range(n):\n",
        "  arr.append(sum(arr[max(i - k + 1, 0):]))\n",
        "print(arr[-1])"
      ],
      "execution_count": 17,
      "outputs": [
        {
          "output_type": "stream",
          "text": [
            "3 10\n",
            "274\n"
          ],
          "name": "stdout"
        }
      ]
    },
    {
      "cell_type": "markdown",
      "metadata": {
        "id": "aHnTLy0tmKS6"
      },
      "source": [
        "### Теперь мы не пересчитываем сумму каждый раз"
      ]
    },
    {
      "cell_type": "code",
      "metadata": {
        "colab": {
          "base_uri": "https://localhost:8080/"
        },
        "id": "mFF_d2X9jz9V",
        "outputId": "b9369ed9-176e-4b97-d32e-1a241ed22398"
      },
      "source": [
        "k, n = map(int, input().split())\n",
        "arr = [1]\n",
        "s = 0\n",
        "for i in range(n):\n",
        "  if i - k >= 0:\n",
        "    s -= arr[i - k]\n",
        "  s += arr[-1]\n",
        "  arr.append(s)\n",
        "print(arr[-1])"
      ],
      "execution_count": 19,
      "outputs": [
        {
          "output_type": "stream",
          "text": [
            "2 7\n",
            "21\n"
          ],
          "name": "stdout"
        }
      ]
    }
  ]
}