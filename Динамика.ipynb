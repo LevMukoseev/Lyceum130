{
  "nbformat": 4,
  "nbformat_minor": 0,
  "metadata": {
    "colab": {
      "name": "Динамика.ipynb",
      "provenance": [],
      "authorship_tag": "ABX9TyPkAnFBp/bECKCKmsn8rZ6t",
      "include_colab_link": true
    },
    "kernelspec": {
      "name": "python3",
      "display_name": "Python 3"
    },
    "language_info": {
      "name": "python"
    }
  },
  "cells": [
    {
      "cell_type": "markdown",
      "metadata": {
        "id": "view-in-github",
        "colab_type": "text"
      },
      "source": [
        "<a href=\"https://colab.research.google.com/github/LevMukoseev/Lyceum130/blob/main/%D0%94%D0%B8%D0%BD%D0%B0%D0%BC%D0%B8%D0%BA%D0%B0.ipynb\" target=\"_parent\"><img src=\"https://colab.research.google.com/assets/colab-badge.svg\" alt=\"Open In Colab\"/></a>"
      ]
    },
    {
      "cell_type": "markdown",
      "metadata": {
        "id": "a6G7U8qYg8De"
      },
      "source": [
        "## 11.[Зайчик](https://acmp.ru/asp/do/index.asp?main=task&id_course=2&id_section=15&id_topic=15&id_problem=84) "
      ]
    },
    {
      "cell_type": "markdown",
      "metadata": {
        "id": "mWpZiC7ZjBXM"
      },
      "source": [
        "### Решение через рекурсию не заходит по времени на python"
      ]
    },
    {
      "cell_type": "code",
      "metadata": {
        "colab": {
          "base_uri": "https://localhost:8080/"
        },
        "id": "bxKsSTqEgDeX",
        "outputId": "c5b72f24-71f4-4cb0-a75a-3d051c0d7039"
      },
      "source": [
        "from functools import lru_cache\n",
        "\n",
        "k, n = map(int, input().split())\n",
        "\n",
        "@lru_cache()\n",
        "def f(x):\n",
        "  if x < 1:\n",
        "    return 0\n",
        "  if x in {1, 2}:\n",
        "    return 1\n",
        "  return sum([f(i) for i in range(x - k, x)])\n",
        "\n",
        "print(f(n + 1))"
      ],
      "execution_count": null,
      "outputs": [
        {
          "output_type": "stream",
          "text": [
            "2 7\n",
            "21\n"
          ],
          "name": "stdout"
        }
      ]
    },
    {
      "cell_type": "markdown",
      "metadata": {
        "id": "jQVm4ZTklfoh"
      },
      "source": [
        "### Решение через массив и сумму его k последних элементов работает существенно быстрее, но может быть улучшено"
      ]
    },
    {
      "cell_type": "code",
      "metadata": {
        "colab": {
          "base_uri": "https://localhost:8080/"
        },
        "id": "JhLiG9JyiF4H",
        "outputId": "533cd9ef-bb28-4166-afad-4bb86cdb3466"
      },
      "source": [
        "k, n = map(int, input().split())\n",
        "arr = [1]\n",
        "for i in range(n):\n",
        "  arr.append(sum(arr[max(i - k + 1, 0):]))\n",
        "print(arr[-1])"
      ],
      "execution_count": null,
      "outputs": [
        {
          "output_type": "stream",
          "text": [
            "3 10\n",
            "274\n"
          ],
          "name": "stdout"
        }
      ]
    },
    {
      "cell_type": "markdown",
      "metadata": {
        "id": "aHnTLy0tmKS6"
      },
      "source": [
        "### Теперь мы не пересчитываем сумму каждый раз"
      ]
    },
    {
      "cell_type": "code",
      "metadata": {
        "colab": {
          "base_uri": "https://localhost:8080/"
        },
        "id": "mFF_d2X9jz9V",
        "outputId": "b9369ed9-176e-4b97-d32e-1a241ed22398"
      },
      "source": [
        "k, n = map(int, input().split())\n",
        "arr = [1]\n",
        "s = 0\n",
        "for i in range(n):\n",
        "  if i - k >= 0:\n",
        "    s -= arr[i - k]\n",
        "  s += arr[-1]\n",
        "  arr.append(s)\n",
        "print(arr[-1])"
      ],
      "execution_count": null,
      "outputs": [
        {
          "output_type": "stream",
          "text": [
            "2 7\n",
            "21\n"
          ],
          "name": "stdout"
        }
      ]
    },
    {
      "cell_type": "markdown",
      "metadata": {
        "id": "DnHeRM0VhgBU"
      },
      "source": [
        "## 122. [Максимальная подпоследовательность](https://acmp.ru/asp/do/index.asp?main=task&id_course=2&id_section=15&id_topic=16&id_problem=86)"
      ]
    },
    {
      "cell_type": "markdown",
      "metadata": {
        "id": "9omVze2Dkkld"
      },
      "source": [
        "Алгоритм работает за \n",
        "$$O(n^2)$$\n",
        "Этого достаточно для сдачи, но можно оптимизировать до \n",
        "$$O(n*log(n))$$"
      ]
    },
    {
      "cell_type": "code",
      "metadata": {
        "colab": {
          "base_uri": "https://localhost:8080/"
        },
        "id": "4qIbW_p7hqKs",
        "outputId": "6fa64495-ed77-46a6-8b60-64f9d7b7930a"
      },
      "source": [
        "n = int(input())\n",
        "arr = list(map(int, input().split()))\n",
        "# массив где в i-ой ячейке будет лежать длина максимальной\n",
        "# подпоследовательности, оканчивающейся на i-ый элемент исходного массива\n",
        "\n",
        "result = [1] * n\n",
        "\n",
        "for i in range(1, n):\n",
        "  for j in range(i):\n",
        "    if arr[j] < arr[i]:\n",
        "      result[i] = max(result[i], result[j] + 1)\n",
        "\n",
        "print(max(result))"
      ],
      "execution_count": null,
      "outputs": [
        {
          "output_type": "stream",
          "text": [
            "7\n",
            "1 2 3 5 3 4 9\n",
            "5\n"
          ],
          "name": "stdout"
        }
      ]
    },
    {
      "cell_type": "markdown",
      "metadata": {
        "id": "kHHMCFNAB3WZ"
      },
      "source": [
        "## 1203 [Нучная конференция](https://acm.timus.ru/problem.aspx?space=1&num=1203)"
      ]
    },
    {
      "cell_type": "code",
      "metadata": {
        "colab": {
          "base_uri": "https://localhost:8080/"
        },
        "id": "0LhcrrEDBuYv",
        "outputId": "47ab89fb-74af-4a3e-d653-8b9802e1160e"
      },
      "source": [
        "n = int(input())\n",
        "arr = [tuple(map(int, input().split())) for _ in range(n)]"
      ],
      "execution_count": null,
      "outputs": [
        {
          "output_type": "stream",
          "text": [
            "5\n",
            "3 4\n",
            "1 5\n",
            "6 7\n",
            "4 5\n",
            "1 3\n"
          ],
          "name": "stdout"
        }
      ]
    },
    {
      "cell_type": "markdown",
      "metadata": {
        "id": "752NweNvUsJi"
      },
      "source": [
        "Давайте отсортируем все конференции по времени конца и только потом по времени начала"
      ]
    },
    {
      "cell_type": "code",
      "metadata": {
        "id": "Wa1GdRA87pKV"
      },
      "source": [
        "arr.sort(key=lambda x: (x[1], x[0]))"
      ],
      "execution_count": null,
      "outputs": []
    },
    {
      "cell_type": "code",
      "metadata": {
        "colab": {
          "base_uri": "https://localhost:8080/"
        },
        "id": "PSm4iOnaD5KX",
        "outputId": "51ed039c-1f82-4627-ccc7-34327e055fd5"
      },
      "source": [
        "arr"
      ],
      "execution_count": null,
      "outputs": [
        {
          "output_type": "execute_result",
          "data": {
            "text/plain": [
              "[(1, 3), (3, 4), (1, 5), (4, 5), (6, 7)]"
            ]
          },
          "metadata": {
            "tags": []
          },
          "execution_count": 5
        }
      ]
    },
    {
      "cell_type": "markdown",
      "metadata": {
        "id": "QC6cFSOwU5WI"
      },
      "source": [
        "Теперь мы хотим на каждом шаге брать конференцию, которая закончится как можно раньше и будет совмещаться с текущим расписанием"
      ]
    },
    {
      "cell_type": "markdown",
      "metadata": {
        "id": "_ocv66-b_8cs"
      },
      "source": [
        "# Подпоследовательность с разрывом\n",
        "Дан массив из 0 и 1, найти максимальную длинну непрерывного подмассива из 1, если нам необходимо удалить один элемент.\n",
        "\n",
        "$[0, 0, 1, 1, 0, 1, 1, 1, 0] -> 5$"
      ]
    },
    {
      "cell_type": "code",
      "metadata": {
        "id": "DkOLEuwzAUj2"
      },
      "source": [
        "def f(a):\n",
        "  m = s1 = s2 = 0\n",
        "  for i in range(len(a)):\n",
        "    if a[i] == 1:\n",
        "      s1 += 1\n",
        "    else:\n",
        "      m = max(m, s1 + s2)\n",
        "      s1, s2 = 0, s1\n",
        "  m = max(m, s1 + s2)\n",
        "  if m == len(a):\n",
        "    m -= 1\n",
        "  return m\n",
        "  "
      ],
      "execution_count": 7,
      "outputs": []
    },
    {
      "cell_type": "code",
      "metadata": {
        "id": "lF5DKBIVV1dh"
      },
      "source": [
        "import numpy.testing as npt\n",
        "npt.assert_equal(f([0,0,1,1,0,1,1,1,0]), 5)\n",
        "npt.assert_equal(f([1,1,1]), 2) # т.к. всегда удаляем элемент\n",
        "npt.assert_equal(f([0,0,1,1,0,0,1,1,1]), 3)\n",
        "npt.assert_equal(f([0,0]), 0)"
      ],
      "execution_count": 10,
      "outputs": []
    },
    {
      "cell_type": "markdown",
      "metadata": {
        "id": "cJTdTTVCAV3M"
      },
      "source": [
        "# Подмассив заданной суммы\n",
        "Дан массив рациональных чисел и число x, найти подмассив сумма элементов которого равна х и вернуть его границы.\n",
        "\n",
        "$[-1, 1, 6, 213, -201], 7 -> (1, 2)$"
      ]
    },
    {
      "cell_type": "code",
      "metadata": {
        "id": "zJ9Yl7lpBbfy"
      },
      "source": [
        ""
      ],
      "execution_count": null,
      "outputs": []
    }
  ]
}