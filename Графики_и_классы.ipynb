{
  "nbformat": 4,
  "nbformat_minor": 0,
  "metadata": {
    "colab": {
      "name": "Графики и классы.ipynb",
      "provenance": [],
      "authorship_tag": "ABX9TyPjAIRPfoU3TXHZwTA8lBNA",
      "include_colab_link": true
    },
    "kernelspec": {
      "name": "python3",
      "display_name": "Python 3"
    },
    "language_info": {
      "name": "python"
    }
  },
  "cells": [
    {
      "cell_type": "markdown",
      "metadata": {
        "id": "view-in-github",
        "colab_type": "text"
      },
      "source": [
        "<a href=\"https://colab.research.google.com/github/LevMukoseev/Lyceum130/blob/main/%D0%93%D1%80%D0%B0%D1%84%D0%B8%D0%BA%D0%B8_%D0%B8_%D0%BA%D0%BB%D0%B0%D1%81%D1%81%D1%8B.ipynb\" target=\"_parent\"><img src=\"https://colab.research.google.com/assets/colab-badge.svg\" alt=\"Open In Colab\"/></a>"
      ]
    },
    {
      "cell_type": "code",
      "metadata": {
        "id": "BYyBoOY8XMXM"
      },
      "source": [
        "import matplotlib.pyplot as plt\n",
        "import numpy as np\n",
        "from sklearn.linear_model import LinearRegression\n",
        "from sklearn.preprocessing import PolynomialFeatures"
      ],
      "execution_count": 1,
      "outputs": []
    },
    {
      "cell_type": "code",
      "metadata": {
        "id": "AWYwAdgcXTCg"
      },
      "source": [
        "class FunctionExplorer:\n",
        "    def __init__(self, f):\n",
        "        self.f = f \n",
        "\n",
        "    def get(self, *args, **kwargs):\n",
        "        return self.f(*args, **kwargs)\n",
        "\n",
        "    def plot(self, X: np.array, with_errors=False, scale=0.1):\n",
        "        y = self.f(X)\n",
        "        if with_errors:\n",
        "          y += np.random.normal(X.mean(), scale, len(X))\n",
        "        plt.scatter(X, y, label=f'${self.f.__name__}(x)$')\n",
        "        plt.legend()\n",
        "        plt.grid()\n",
        "    \n",
        "    def plot_predict(self, X: np.array, degree=2):\n",
        "      y = self.f(X)\n",
        "      poly = self.predict(X, degree)\n",
        "      plt.plot(X, poly(X), label=poly, color=\"orange\")\n",
        "      plt.legend()\n",
        "      plt.grid()\n",
        "\n",
        "    def predict(self, X: np.array, degree=2):\n",
        "      y = self.f(X)\n",
        "      coefs = np.polyfit(X, y, deg = degree)\n",
        "      return np.poly1d(coefs)"
      ],
      "execution_count": 48,
      "outputs": []
    },
    {
      "cell_type": "code",
      "metadata": {
        "colab": {
          "base_uri": "https://localhost:8080/",
          "height": 265
        },
        "id": "kbdieOO2XTq-",
        "outputId": "8afa87b5-aff2-40f4-8397-6b76c1158e62"
      },
      "source": [
        "import math\n",
        "import random\n",
        "fe = FunctionExplorer(lambda x: x**2 + x - 7)\n",
        "X = np.linspace(-1, 1, 40)\n",
        "fe.plot_predict(X)\n",
        "fe.plot(X, with_errors=True, scale=0.2)"
      ],
      "execution_count": 49,
      "outputs": [
        {
          "output_type": "display_data",
          "data": {
            "image/png": "[encoded data removed]",
            "text/plain": [
              "<Figure size 432x288 with 1 Axes>"
            ]
          },
          "metadata": {
            "tags": [],
            "needs_background": "light"
          }
        }
      ]
    }
  ]
}